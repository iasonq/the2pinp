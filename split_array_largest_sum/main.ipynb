{
 "cells": [
  {
   "cell_type": "code",
   "execution_count": 1,
   "metadata": {},
   "outputs": [],
   "source": [
    "import numpy as np"
   ]
  },
  {
   "attachments": {},
   "cell_type": "markdown",
   "metadata": {},
   "source": [
    "\n",
    "##### 410. Split Array Largest Sum\n",
    "Given an integer array nums and an integer k, split nums into k non-empty subarrays such that the largest sum of any subarray is minimized.\n",
    "\n",
    "Return the minimized largest sum of the split.\n",
    "\n",
    "A subarray is a contiguous part of the array."
   ]
  },
  {
   "cell_type": "code",
   "execution_count": 25,
   "metadata": {},
   "outputs": [],
   "source": [
    "nums = np.array([7,2,5,10,8,5, 7, 8,5])\n",
    "k = 3"
   ]
  },
  {
   "cell_type": "code",
   "execution_count": 2,
   "metadata": {},
   "outputs": [],
   "source": [
    "nums = np.array([7,2,5,10,8])\n",
    "k = 2"
   ]
  },
  {
   "cell_type": "code",
   "execution_count": 23,
   "metadata": {},
   "outputs": [],
   "source": [
    "nums = np.array([1,2,3,4,5])\n",
    "k = 2"
   ]
  },
  {
   "cell_type": "code",
   "execution_count": 28,
   "metadata": {},
   "outputs": [],
   "source": [
    "def main0(nums, k):\n",
    "    \n",
    "    min0 = int(max ( np.sum(nums)/k, np.max(nums) ) )\n",
    "    print(\"Starting minimum is: \", min0)\n",
    "    flag = True\n",
    "\n",
    "    while flag:\n",
    "        dd = np.zeros(k)\n",
    "        ct = 0\n",
    "        for i, w in enumerate(nums):\n",
    "            if dd[ct] + w <= min0:\n",
    "                dd[ct] += w\n",
    "                if w == nums[-1]:\n",
    "                    flag = False\n",
    "            elif ct < k - 1: \n",
    "                ct +=1\n",
    "                dd[ct] += w\n",
    "                if w == nums[-1]:\n",
    "                    flag = False\n",
    "            else:\n",
    "                print(\"Cannot break array into \" + str(k) + \" arrays, increasing sum boundary\")\n",
    "                min0 += max( round(np.sum(nums[i:])/k), 1)\n",
    "                \n",
    "                print(dd)\n",
    "                print(\"New sum boundary is: \", min0)\n",
    "                break\n",
    "    return dd, min0\n"
   ]
  },
  {
   "cell_type": "code",
   "execution_count": 29,
   "metadata": {},
   "outputs": [
    {
     "name": "stdout",
     "output_type": "stream",
     "text": [
      "Starting minimum is:  19\n",
      "Cannot break array into 3 arrays, increasing sum boundary\n",
      "[14. 18. 12.]\n",
      "New sum boundary is:  23\n"
     ]
    },
    {
     "data": {
      "text/plain": [
       "(array([14., 18., 12.]), 23)"
      ]
     },
     "execution_count": 29,
     "metadata": {},
     "output_type": "execute_result"
    }
   ],
   "source": [
    "main0(nums, k)"
   ]
  }
 ],
 "metadata": {
  "kernelspec": {
   "display_name": "genv",
   "language": "python",
   "name": "python3"
  },
  "language_info": {
   "codemirror_mode": {
    "name": "ipython",
    "version": 3
   },
   "file_extension": ".py",
   "mimetype": "text/x-python",
   "name": "python",
   "nbconvert_exporter": "python",
   "pygments_lexer": "ipython3",
   "version": "3.10.11"
  },
  "orig_nbformat": 4
 },
 "nbformat": 4,
 "nbformat_minor": 2
}
