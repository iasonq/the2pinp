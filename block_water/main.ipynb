{
 "cells": [
  {
   "cell_type": "code",
   "execution_count": 1,
   "metadata": {},
   "outputs": [],
   "source": [
    "from functions import *"
   ]
  },
  {
   "cell_type": "code",
   "execution_count": 2,
   "metadata": {},
   "outputs": [],
   "source": [
    "val = []"
   ]
  },
  {
   "cell_type": "code",
   "execution_count": 3,
   "metadata": {},
   "outputs": [],
   "source": [
    "ar0= np.array([\n",
    "    [0, 1, 0, 1, 0, 0],\n",
    "    [1, 0, 1, 0, 1, 0],\n",
    "    [0, 1, 0, 1, 0, 0],\n",
    "    [0, 2, 0, 0, 0, 0],\n",
    "    [2, 0, 2, 0, 1, 0],\n",
    "    [2, 0, 2, 1, 0, 1],\n",
    "    [0, 2, 0, 1, 1, 1]\n",
    "])"
   ]
  },
  {
   "cell_type": "code",
   "execution_count": 4,
   "metadata": {},
   "outputs": [],
   "source": [
    "ar1 = np.array(\n",
    "    [[3,3,3,3,3],[3,2,2,2,3],[3,2,1,2,3],[3,2,2,2,3],[3,3,3,3,3]]\n",
    ")"
   ]
  },
  {
   "cell_type": "code",
   "execution_count": 5,
   "metadata": {},
   "outputs": [],
   "source": [
    "ar2 = np.array([\n",
    "    [1,4,3,1,3,2],\n",
    "    [3,2,1,3,2,4],\n",
    "    [2,3,3,2,3,1]\n",
    "    ])"
   ]
  },
  {
   "cell_type": "code",
   "execution_count": 6,
   "metadata": {},
   "outputs": [],
   "source": [
    "def main(ar_in):\n",
    "    cn = 0\n",
    "    ar = ar_in.copy()\n",
    "    x, y = np.shape(ar)\n",
    "    iter = 0\n",
    "    tvol = 0\n",
    "\n",
    "    while np.any(ar != 0):\n",
    "        iter +=1\n",
    "        for i in range(1, x-1):\n",
    "            for j in range(1, y-1):\n",
    "                #If a zero is detected then initiate flood fill, which replaces all bordering 0s with a different number, e.g 11\n",
    "                if ar[i, j] == 0:\n",
    "\n",
    "                    val.append( iter*(2**i + 10*j) ) #it needs a better unique value generator but it will do for now\n",
    "                    ar = flood_fill(ar, i, j, val[cn])\n",
    "\n",
    "                    check, vol = calc(ar, val[cn])\n",
    "                    if check == False:\n",
    "                        tvol += vol\n",
    "                    cn += 1\n",
    "        print(ar)\n",
    "        ar = rlevel(ar_in, iter)\n",
    "    return tvol"
   ]
  },
  {
   "cell_type": "code",
   "execution_count": 7,
   "metadata": {},
   "outputs": [
    {
     "name": "stdout",
     "output_type": "stream",
     "text": [
      "[[1 4 3 1 3 2]\n",
      " [3 2 1 3 2 4]\n",
      " [2 3 3 2 3 1]]\n",
      "[[ 0  3  2  0  2  1]\n",
      " [ 2  1 44  2  1  3]\n",
      " [ 1  2  2  1  2  0]]\n",
      "[[  0   2   1   0   1   0]\n",
      " [  1  36  36   1 126   2]\n",
      " [  0   1   1   0   1   0]]\n",
      "[[48  1 48 48 48 48]\n",
      " [48 48 48 48 48  1]\n",
      " [48 48 48 48 48 48]]\n"
     ]
    },
    {
     "data": {
      "text/plain": [
       "4"
      ]
     },
     "execution_count": 7,
     "metadata": {},
     "output_type": "execute_result"
    }
   ],
   "source": [
    "main(ar2)"
   ]
  },
  {
   "cell_type": "code",
   "execution_count": null,
   "metadata": {},
   "outputs": [],
   "source": []
  }
 ],
 "metadata": {
  "kernelspec": {
   "display_name": "genv",
   "language": "python",
   "name": "python3"
  },
  "language_info": {
   "codemirror_mode": {
    "name": "ipython",
    "version": 3
   },
   "file_extension": ".py",
   "mimetype": "text/x-python",
   "name": "python",
   "nbconvert_exporter": "python",
   "pygments_lexer": "ipython3",
   "version": "3.10.11"
  },
  "orig_nbformat": 4
 },
 "nbformat": 4,
 "nbformat_minor": 2
}
