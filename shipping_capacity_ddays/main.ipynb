{
 "cells": [
  {
   "cell_type": "code",
   "execution_count": 52,
   "metadata": {},
   "outputs": [],
   "source": [
    "import numpy as np"
   ]
  },
  {
   "attachments": {},
   "cell_type": "markdown",
   "metadata": {},
   "source": [
    "##### 1011. Capacity To Ship Packages Within D Days\n",
    "\n",
    "A conveyor belt has packages that must be shipped from one port to another within days days.\n",
    "\n",
    "The ith package on the conveyor belt has a weight of weights[i]. Each day, we load the ship with packages on the conveyor belt (in the order given by weights). We may not load more weight than the maximum weight capacity of the ship.\n",
    "\n",
    "Return the least weight capacity of the ship that will result in all the packages on the conveyor belt being shipped within days days.\n",
    "\n"
   ]
  },
  {
   "cell_type": "code",
   "execution_count": 53,
   "metadata": {},
   "outputs": [],
   "source": [
    "# e.g\n",
    "weights = np.array([1,2,3,4,5,6,7,8,9,10])\n",
    "days = 5"
   ]
  },
  {
   "cell_type": "code",
   "execution_count": 62,
   "metadata": {},
   "outputs": [],
   "source": [
    "weights = np.array([3,2,2,4,1,4])\n",
    "days = 3"
   ]
  },
  {
   "cell_type": "code",
   "execution_count": 55,
   "metadata": {},
   "outputs": [],
   "source": [
    "weights = np.array([1,2,3,1,1])\n",
    "days = 4"
   ]
  },
  {
   "cell_type": "code",
   "execution_count": 63,
   "metadata": {},
   "outputs": [],
   "source": [
    "def main(weights, days):\n",
    "    \n",
    "    min0 = int(max ( np.sum(weights)/days, np.max(weights) ) )\n",
    "    print(\"Starting minimum is: \", min0)\n",
    "    flag = True\n",
    "\n",
    "    while flag:\n",
    "        dd = np.zeros(days)\n",
    "        ct = 0\n",
    "        for i, w in enumerate(weights):\n",
    "            if dd[ct] + w <= min0:\n",
    "                dd[ct] += w\n",
    "                if w == weights[-1]:\n",
    "                    flag = False\n",
    "            elif ct < days - 1: \n",
    "                ct +=1\n",
    "                dd[ct] += w\n",
    "                if w == weights[-1]:\n",
    "                    flag = False\n",
    "            else:\n",
    "                print(\"Cargo cannot be shipped within \" + str(days) + \", increasing limit\")\n",
    "                print(dd)\n",
    "                print(\"Leftover cargo: \", weights[i:])\n",
    "                min0 += max( round(np.sum(weights[i:])/days), 1)\n",
    "                print(\"New weight limit is: \", min0)\n",
    "                break\n",
    "    return min0, dd\n"
   ]
  },
  {
   "cell_type": "code",
   "execution_count": 64,
   "metadata": {},
   "outputs": [
    {
     "name": "stdout",
     "output_type": "stream",
     "text": [
      "Starting minimum is:  5\n",
      "Cargo cannot be shipped within 3, increasing limit\n",
      "[5. 2. 5.]\n",
      "Leftover cargo:  [4]\n",
      "New weight limit is:  6\n"
     ]
    },
    {
     "data": {
      "text/plain": [
       "(6, array([5., 2., 5.]))"
      ]
     },
     "execution_count": 64,
     "metadata": {},
     "output_type": "execute_result"
    }
   ],
   "source": [
    "main(weights, days)"
   ]
  }
 ],
 "metadata": {
  "kernelspec": {
   "display_name": "genv",
   "language": "python",
   "name": "python3"
  },
  "language_info": {
   "codemirror_mode": {
    "name": "ipython",
    "version": 3
   },
   "file_extension": ".py",
   "mimetype": "text/x-python",
   "name": "python",
   "nbconvert_exporter": "python",
   "pygments_lexer": "ipython3",
   "version": "3.10.11"
  },
  "orig_nbformat": 4
 },
 "nbformat": 4,
 "nbformat_minor": 2
}
